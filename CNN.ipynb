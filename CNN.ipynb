{
  "nbformat": 4,
  "nbformat_minor": 0,
  "metadata": {
    "colab": {
      "name": "CNN.ipynb",
      "provenance": [],
      "collapsed_sections": []
    },
    "kernelspec": {
      "name": "python3",
      "display_name": "Python 3"
    }
  },
  "cells": [
    {
      "cell_type": "code",
      "metadata": {
        "id": "noCaCnA1a67_"
      },
      "source": [
        "\r\n",
        "## Convolutional Neural Network\r\n",
        "\r\n",
        "## Classification with CNN in a data set consisting of dog and cat images\r\n",
        "\r\n",
        "## Part 1 - Building the CNN\r\n",
        "\r\n",
        "from keras.models import Sequential\r\n",
        "from keras.layers import Conv2D\r\n",
        "from keras.layers import MaxPooling2D\r\n",
        "from keras.layers import Flatten\r\n",
        "from keras.layers import Dense\r\n",
        "\r\n",
        "\r\n"
      ],
      "execution_count": null,
      "outputs": []
    },
    {
      "cell_type": "code",
      "metadata": {
        "id": "XmZM02SGFvJD"
      },
      "source": [
        "\r\n",
        "classifier = Sequential()\r\n",
        "\r\n",
        "## Step 1 - Convolution\r\n",
        "\r\n",
        "classifier.add(Conv2D(32, (3, 3), input_shape = (64, 64, 3), activation = 'relu'))\r\n",
        "\r\n"
      ],
      "execution_count": null,
      "outputs": []
    },
    {
      "cell_type": "code",
      "metadata": {
        "id": "OTEL2IBDFvGg"
      },
      "source": [
        "## Step 2 - Pooling\r\n",
        "\r\n",
        "classifier.add(MaxPooling2D(pool_size = (2, 2)))\r\n",
        "\r\n"
      ],
      "execution_count": null,
      "outputs": []
    },
    {
      "cell_type": "code",
      "metadata": {
        "id": "QrZKd-kOFvDx"
      },
      "source": [
        "## Interim Step - Adding Second Convolution and Pooling Layer\r\n",
        "\r\n",
        "classifier.add(Conv2D(32, (3, 3), activation = 'relu'))\r\n",
        "classifier.add(MaxPooling2D(pool_size = (2, 2)))\r\n",
        "\r\n"
      ],
      "execution_count": null,
      "outputs": []
    },
    {
      "cell_type": "code",
      "metadata": {
        "id": "vViDbWqdFvBJ"
      },
      "source": [
        "## Step 3 - Flattening\r\n",
        "\r\n",
        "classifier.add(Flatten())\r\n"
      ],
      "execution_count": null,
      "outputs": []
    },
    {
      "cell_type": "code",
      "metadata": {
        "id": "Ciul7UPXFu9w"
      },
      "source": [
        "\r\n",
        "## Step 4 - Full Connection\r\n",
        "\r\n",
        "classifier.add(Dense(units = 128, activation = 'relu'))\r\n",
        "classifier.add(Dense(units = 1, activation = 'sigmoid'))\r\n"
      ],
      "execution_count": null,
      "outputs": []
    },
    {
      "cell_type": "code",
      "metadata": {
        "id": "pUly83t7Fu6P"
      },
      "source": [
        "\r\n",
        "## Compiling the CNN\r\n",
        "\r\n",
        "classifier.compile(optimizer = 'adam', loss = 'binary_crossentropy', metrics = ['accuracy'])\r\n",
        "\r\n"
      ],
      "execution_count": null,
      "outputs": []
    },
    {
      "cell_type": "code",
      "metadata": {
        "id": "XcmZKqitFuy3"
      },
      "source": [
        "## Part 2 - Fitting the CNN to the images\r\n",
        "\r\n",
        "from keras.preprocessing.image import ImageDataGenerator\r\n",
        "\r\n",
        "train_datagen = ImageDataGenerator(rescale = 1./255,\r\n",
        "                                   shear_range = 0.2,\r\n",
        "                                   zoom_range = 0.2,\r\n",
        "                                   horizontal_flip = True)\r\n",
        "\r\n",
        "\r\n",
        "test_datagen = ImageDataGenerator(rescale = 1./255)\r\n",
        "\r\n"
      ],
      "execution_count": null,
      "outputs": []
    },
    {
      "cell_type": "code",
      "metadata": {
        "id": "rItWOlZfFul9"
      },
      "source": [
        "\r\n",
        "training_set = train_datagen.flow_from_directory('dataset/training_set',\r\n",
        "                                                 target_size = (64, 64),\r\n",
        "                                                 batch_size = 32,\r\n",
        "                                                 class_mode = 'binary')\r\n",
        "\r\n",
        "test_set = test_datagen.flow_from_directory('dataset/test_set',\r\n",
        "                                            target_size = (64, 64),\r\n",
        "                                            batch_size = 32,\r\n",
        "                                            class_mode = 'binary')\r\n",
        "\r\n"
      ],
      "execution_count": null,
      "outputs": []
    },
    {
      "cell_type": "code",
      "metadata": {
        "id": "P7IkDblwGYrc"
      },
      "source": [
        "classifier.fit_generator(training_set,\r\n",
        "                         steps_per_epoch = 8000,\r\n",
        "                         epochs = 25,\r\n",
        "                         validation_data = test_set,\r\n",
        "                         validation_steps = 1830, \r\n",
        "                         #use_multiprocessing=True\r\n",
        ")"
      ],
      "execution_count": null,
      "outputs": []
    }
  ]
}